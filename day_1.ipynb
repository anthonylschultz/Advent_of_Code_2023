{
 "cells": [
  {
   "cell_type": "code",
   "execution_count": 117,
   "metadata": {},
   "outputs": [],
   "source": [
    "# import required packages\n",
    "import pandas as pd \n",
    "import csv \n",
    "import re\n",
    "\n"
   ]
  },
  {
   "cell_type": "code",
   "execution_count": 197,
   "metadata": {},
   "outputs": [
    {
     "name": "stdout",
     "output_type": "stream",
     "text": [
      "55108\n"
     ]
    }
   ],
   "source": [
    "# read in the data, create a list of lists\n",
    "data_lst = []\n",
    "with open('day_1.csv') as data:\n",
    "    csv_reader = csv.reader(data)\n",
    "\n",
    "    for lines in csv_reader:\n",
    "        data_lst.append(lines)\n",
    "\n",
    "# strip out non-numeric characters \n",
    "new = []\n",
    "for lst in data_lst:\n",
    "    for str1 in lst:\n",
    "        new.append(re.sub(\"[^0-9]\", \"\", str1))\n",
    "\n",
    "# create new list of str numbers \n",
    "new_new = []\n",
    "for str2 in new:\n",
    "    if len(str2) == 1:\n",
    "        new_new.append([str2[0]])\n",
    "    else:\n",
    "        new_new.append([str2[0], str2[-1]])\n",
    "\n",
    "\n",
    "# create new list -> convert characters to ints\n",
    "new_new_t = []\n",
    "\n",
    "for lstt in new_new:\n",
    "    new_new_t.append([eval(chars) for chars in lstt])\n",
    "\n",
    "\n",
    "# create a list of doubles and singles\n",
    "doubs = []\n",
    "singles = []\n",
    "\n",
    "for i in new_new_t:\n",
    "    if len(i) == 2:\n",
    "        doubs.append(i)\n",
    "    elif len(i) == 1:\n",
    "        singles.append(i)\n",
    "\n",
    "# take the single digits and turn into double digits\n",
    "singles_final1 = []\n",
    "\n",
    "for lst in singles:\n",
    "    for i in lst:\n",
    "        singles_final1.append(i * 11)\n",
    "\n",
    "\n",
    "# convert doubles into strings\n",
    "doubs_ref = []\n",
    "for i in doubs:\n",
    "    doubs_ref.append([str(x) for x in i])\n",
    "\n",
    "\n",
    "# Convert strings into a concatenated int\n",
    "doubs_ref1 = []\n",
    "for i in doubs_ref:\n",
    "    doubs_ref1.append(int(i[0] + i[1]))\n",
    "\n",
    "print(sum(doubs_ref1) + sum(singles_final1))"
   ]
  },
  {
   "cell_type": "code",
   "execution_count": null,
   "metadata": {},
   "outputs": [],
   "source": []
  },
  {
   "cell_type": "code",
   "execution_count": 239,
   "metadata": {},
   "outputs": [],
   "source": [
    "data_ = []\n",
    "with open('day_1.csv') as data:\n",
    "    csv_reader = csv.reader(data)\n",
    "\n",
    "    for line in csv_reader:\n",
    "        for str in line:\n",
    "            data_.append(str)\n"
   ]
  },
  {
   "cell_type": "code",
   "execution_count": 240,
   "metadata": {},
   "outputs": [],
   "source": [
    "# convert numeric words to numbers\n",
    "data_ = [sub.replace('oneeight', '1') for sub in data_]\n",
    "data_ = [sub.replace('threeight', '3') for sub in data_]\n",
    "data_ = [sub.replace('threeight', '3') for sub in data_]\n",
    "data_ = [sub.replace('one', '1') for sub in data_]\n",
    "data_ = [sub.replace('two', '2') for sub in data_]\n",
    "data_ = [sub.replace('three', '3') for sub in data_]\n",
    "data_ = [sub.replace('four', '4') for sub in data_]\n",
    "data_ = [sub.replace('five', '5') for sub in data_]\n",
    "data_ = [sub.replace('six', '6') for sub in data_]\n",
    "data_ = [sub.replace('seven', '7') for sub in data_]\n",
    "data_ = [sub.replace('eight', '8') for sub in data_]\n",
    "data_ = [sub.replace('nine', '9') for sub in data_]\n",
    "\n",
    "\n",
    "\n",
    "\n",
    "\n",
    "    data.replace(\"one\", \"one1one\")\n",
    "    .replace(\"two\", \"two2two\")\n",
    "    .replace(\"three\", \"three3three\")\n",
    "    .replace(\"four\", \"four4four\")\n",
    "    .replace(\"five\", \"five5five\")\n",
    "    .replace(\"six\", \"six6six\")\n",
    "    .replace(\"seven\", \"seven7seven\")\n",
    "    .replace(\"eight\", \"eight8eight\")\n",
    "    .replace(\"nine\", \"nine9nine\")"
   ]
  },
  {
   "cell_type": "code",
   "execution_count": 241,
   "metadata": {},
   "outputs": [],
   "source": [
    "# strip out non-numeric characters\n",
    "nonnumerics = []\n",
    "for l in data_:\n",
    "    nonnumerics.append(re.sub(\"[^0-9]\", \"\", l))"
   ]
  },
  {
   "cell_type": "code",
   "execution_count": 247,
   "metadata": {},
   "outputs": [],
   "source": [
    "nonnumerics_two = []\n",
    "for x in nonnumerics:\n",
    "    if len(x) == 1:\n",
    "        nonnumerics_two.append([x[0], x[0]])\n",
    "    if len(x) != 1:\n",
    "        nonnumerics_two.append([x[0], x[-1]])\n",
    "\n",
    "# nonnumerics_f = [] \n",
    "# for l in nonnumerics_two:\n",
    "#     nonnumerics_f.append([eval(chars) for chars in l])\n",
    "\n",
    "# concatenate ints \n",
    "nonnumeric_concat = [] \n",
    "for x in nonnumerics_two:\n",
    "    nonnumeric_concat.append(int(x[0] + x[1]))\n",
    "\n"
   ]
  },
  {
   "cell_type": "code",
   "execution_count": 249,
   "metadata": {},
   "outputs": [
    {
     "data": {
      "text/plain": [
       "55831"
      ]
     },
     "execution_count": 249,
     "metadata": {},
     "output_type": "execute_result"
    }
   ],
   "source": [
    "sum(nonnumeric_concat)"
   ]
  },
  {
   "cell_type": "code",
   "execution_count": 256,
   "metadata": {},
   "outputs": [
    {
     "data": {
      "text/plain": [
       "55831"
      ]
     },
     "execution_count": 256,
     "metadata": {},
     "output_type": "execute_result"
    }
   ],
   "source": [
    "sum(nonnumeric_concat) "
   ]
  },
  {
   "cell_type": "code",
   "execution_count": 260,
   "metadata": {},
   "outputs": [
    {
     "data": {
      "text/plain": [
       "'gsjgklneight8eight6zqfz\\n7one1one718one1onegfqtdbtxfcmd\\nxvtfhkm8c9\\n914two2two8\\nvxzzvdhfqfsix6six83c1ttvbbstxgdrkfcnmm3\\n76mkvhmbkpm\\n8six6sixssmlzlhrnine9nineggmrvg6\\nthree3threenine9ninedtr7219\\ntwo2two2geight8eight\\n3nine9nine9five5fivetwo2two9two2twohxhc8\\nllbfmnzzntdcfbslcl3xxvz\\ntwo2two3leight8eighttvpkfmjhhone1onefour4four\\n1b9four4four\\nfive5fivefdlqone1onesj2six6six\\nhfptgztwo2twosix6six8\\nfour4fourkcxqfgxbsvjj3472\\nxhzs7rdphtxhtwo2two\\neight8eightthree3three51\\n3nmrone1onemlqzfxgone1onepkh\\n9vnxqtjjrsg\\n533five5fivesix6sixrvqfxjrdhl\\nbkrljtkjb42fqnp\\n4mrh734\\nthree3threefour4fourfive5five83l\\nlcjftnpqfour4fourfive5fivesix6sixtwo2twof3\\nseven7sevennine9nineh7two2two3\\none1onecgrmb74ctxhg\\nkmvtdrxvrfive5fivethree3three2\\nseven7seven98mflv\\ntmone1oneight8eightzstdjqjncnkpkknzone1oneone1onethree3threefive5five7\\nfour4fourzsqjbffmxf6lsqdttjfive5five1nine9nine\\nccs3one1onesgmmrb\\nkflkpscthree3threehjjgckfrfdhc3krgntwo2twofour4four\\n7five5five2134\\npnfbrjhgprdsvzjrklrclmlgkk69four4four4\\ncheight8eightwo2twofour4fourxt2\\n1167three3threetfqstpkc\\n6dsk2bhqmone1onejggkpvffhgnrbsix6six\\nfive5five9three3threefour4four\\none1one3136four4four\\nvvncdsg6jnxlbsb3\\nfgftp5\\nxxscpztpxteight8eightv4mprlzmdhxtxmpvgfour4four\\ng4\\neight8eightmbqbrxjbdx5\\n8nine9nineeight8eighttwo2two6lcsvmvxdqbgpdbtjnnine9nine\\njkj86three3threeskgpnl3four4four\\nrtmpn5cbtthree3threefgxnhhvlkxcbtknnine9nine\\n7dpn6cqstqrv7sbgzxhgrqrgn\\n3five5fivetxgjgndz1\\ntfmkd8three3three2\\nrcl55cvnfour4four9two2twofive5five\\ndmgdbkfjvsnpctj69four4four5\\nxjlrvznbgl78eight8eight\\ndmhkvgbc6four4four6eight8eightwo2twofkk\\nzlhzn898scffour4four\\nbdeight8eighttxntvnslbf1nine9nine59\\nhtjltzmzeight8eight5four4foureight8eightdvv\\n45four4fourl2\\nseven7seventhree3three39five5fivesix6sixtwo2twokchzgc\\nfxtbgsxch1lmdsldthree3threefour4four8rkxjz9\\nfive5five3five5five8\\nthree3threefvfcxnfgskqjdjknrgkvnkl6\\n8jzdkxm\\nplttwo2two2four4fourseven7seven99zthrklvcvp\\ngxjfdnzrcj2847eight8eightnine9nine\\n2one1onetwo2twoxdc\\n35zlpzpvfn77\\nnxppmskvrd1one1one89eight8eightfive5five\\nglhp52f\\nmpptktkhrbbcsdheight8eighteight8eightqkjgckvxs6four4fourseven7seven\\n1nine9ninelspvpm\\nthree3threefqn551\\neight8eight95lhxrtwo2twoh2hbnd\\njlbclhxp72five5fivektxfxbtwo2twone1onetxl\\none1one7nflzdbdjchbbqqmn\\nfive5fivesbgsrvzrhz2ncbkhsbrgnpbkgcsrln1zksfqkcxpf\\n1ftfour4four22hvdcqrseven7seven\\nseven7sevenjgrkpbxxnnv1nine9nine6hzkrzzfl\\nfour4fourthree3threefour4four98seven7sevenbthree3threesix6six\\nsix6sixgrrjkl3gdzz86one1onejpjlbpnthree3three\\nvhx3tnzcjvgg\\nsix6six3one1one4six6sixeight8eighttwo2twosbkqdjfhfrone1oneight8eights\\n669eight8eighteight8eight32seven7seven\\njdpzkdnngc6bvqvtxtxfive5fivesix6sixthree3threedndsqmv\\n9eight8eight6ssxcdt6five5fivedsnine9nine\\nnine9nine3one1onetjmdqpktwo2two\\nnine9ninejjzrklhptsdzbt6tmxnpbrm\\neight8eightseven7sevensix6sixtxvxlqtdjfive5fivebnvpdhvfsqbbssfkplzmkvvxh7\\nxmeight8eightone1one5cjgn1nhjsthree3three5\\nxncbclzqqgskthree3three14bptlrknkmpntxmnf\\nseven7sevenfour4four8\\n34\\n5ccslrvbfive5five\\nsix6sixsix6sixlqf72\\nkknmskkfive5fivezcmjrgfgclgrz1\\ngqxtmrsqxfour4four12vlone1onefive5five\\nfour4four8594kxsc\\n364\\nhrbfxdpfive5fiveseven7sevenjcjdm3nine9nine9six6sixsh\\nmml5five5five\\nbtcqdx7jjsix6six\\n4558seven7seven4mjzsix6six\\n1mfckqcfk\\n4pjtbd18ghnnjqmjm6cvcdgjlcrmxpnnts\\neight8eight6hd\\ncdjdhpjccncpmrfour4four9qxlqfive5fivenxjfssftnq\\n5bchcbpjxnsbkxgbqgbr\\nsix6sixlhnzzmkbfour4fourhzp58one1onetwo2twoseven7seven\\nkfgkqfive5fivek3br\\nfnklssmgnine9nine4eight8eight\\nrbbnjvgpkgbs65seven7sevenmeight8eightseven7sevennine9nine\\n8nine9ninenzgpldnfgjjmbqpmqvgqcthree3three5seven7seven2\\nseven7seven6pdrgrldhtldhmndbjpj\\n5three3three4zmjpslhh\\nthree3threesix6sixsix6six45\\nszxnvzrkseven7seven2tctf\\nxqzpnine9ninesix6sixseven7seven5dndlqd7\\nthree3three6ghhzcvpkfive5fivervsgplxq\\neight8eighttwo2twoeight8eightlfntmxptgk2pngplvr39\\n33nine9ninenine9nine4five5fivejseven7seven6\\nfive5fivehxbmjvxxrzrqr29npqhhlsjr2ttmnl\\nslmltqplzl73dxkxrpgn\\nlxg4371three3three\\ntjxsmjnthree3threefive5five5five5fivemshrhhj\\n5eight8eighttwo2two\\nsix6sixbpqtcrjzmveight8eighteight8eightjzgktzss1\\n1qxjz57six6sixzh\\n4djpqz54122\\nthree3threeclg1ng7kgprvd\\n3143three3threenine9nine71\\nkcxmcthree3threesix6sixeight8eight23\\n4zhvn4five5five\\nlmxfone1one47fbdsix6sixjgl\\nkzcdzp2\\n27two2twozjbtr\\ngpvkqdpbpzthree3threeone1one5\\nbqvneight8eightseven7seven8qll\\nseven7seven8brjrp272none1one\\n3kxhglddkjklkl\\n5seven7sevennine9nine52nine9nine\\n3four4fourgznkfpfsxzsnmone1oneqsix6sixtsm\\ntwo2twothree3threemkz6ttrtbj8\\nqone1oneight8eight28four4fournine9ninempvltzrtzgvfdcdlxv\\nrllmkpvgqnkdgdrseven7seven2five5five3\\n7eight8eight89four4fourlkfour4fourfive5fivejkqgffz\\nfour4four6xr\\n6six6sixfive5five2hhzdkskxnine9nine3nine9nine\\ntwo2two6qmmkhb9eight8eight\\ncqfxnmrlnhcsdqqxkn2nsncgvdxgmnine9nineeight8eight\\n7six6sixsdsfour4four4mrxeight8eight\\n44three3threetcmtzmxzgjone1onesix6sixnine9nine8seven7seven\\ndlone1onethree3threejh6bgxxmlkdseight8eightwo2twokp\\nfour4four3lspkhhtsmone1one\\n89hjtnrrpvfzjdkzp\\nxc4six6sixvzpccdblczvleight8eight7\\n2two2twotwo2twogzqhp9vnbp\\nrxsplmvb1two2two8pdtnxtbthree3threefive5fiveeight8eight\\nbsfdmnnj8eight8eight\\nrntszdckhhcmqn21ljzqbhn\\nnine9nineeight8eight8\\n1fhmnzzlfjpdp3ptj8three3threejqvmstbtp\\n267\\nhkknsfive5fivecrhthvbhhqj1\\nsix6six6xcqpnj9five5fivezcqbrfour4four4\\n8one1one2gfsgg\\nmszrrqmr4nine9nine9\\n5four4fournine9nine43three3three\\n5one1one9hvvrthree3threethree3threef3\\nnine9ninetwo2two6two2twofive5fivefive5fivennhjqkhzntkqptfxvdj\\n9one1onetwo2two5five5fiveeight8eightnine9nine8\\nnine9nineseven7seventslmmgnsjbdgsb2six6sixlmvxpdg6\\n8nine9nineone1onethree3threehghh\\njd1kr\\ndrrsxljl4\\nfqhfjdxdlsgjgkhcpjkqpgzjgchsix6sixrvzqn7\\n7one1one2qsnxhfqkseven7seven6\\n1vhljtwo2two1one1oneight8eightqm\\ngl3\\ntwo2two2eight8eight1three3threethree3three\\n64nine9nine\\nqglkhnfffsnine9nine2three3three566three3three\\n7six6sixtwo2two6trbbklgjteight8eighttwo2two\\nnkccpeight8eight4seven7sevenseven7sevenone1one\\neight8eight9ldkvgqhq3\\nttkqpxpzrxph1zfzhbvbgvn\\n46lqxxgrmvsix6six\\ntwo2twosix6sixcqsmjsthree3three8pqthmd\\nnine9ninesix6sixdsns66lvnkhrq3\\nseven7seven413crqjpkfqleight8eightlgxgck\\none1onesxztkrtxksqklpqcmrlpjlnst6ftwo2two\\njzb1one1oneight8eightqqr\\nnine9ninexrmlglbdlfqm4two2twolnlq\\n4seven7seven4eight8eightzds\\nfour4fourngdzkklkxtsix6six8\\ncggtwo2twone1onebtkxtwo2twothree3three16seven7seven\\nthree3three59three3threesix6six\\n3qfglrfcr4nine9nine\\n9seven7seveneight8eighttwo2twofour4foureight8eightvvhpgmpnftwo2two\\nseven7seven2six6sixvsmxv86\\nmgvqr5two2two\\nlggjffzt2six6six7vxflh23\\nhctpnine9nineseven7sevenone1oneone1onevr3\\n7three3threeqzgzm532mn5\\nvltdnjhxgl6rjbmcb79s69eight8eight\\nsnkbpcgclpbflxbz6nkktqqgplm11bdnvpfour4four\\n75dllnlkthree3three93one1onedflbbmlvmd\\nsix6sixthree3three94frdpkdccqkxv5\\nhdpsvxl2bszdpgspqgxrzz3\\nhztwo2twone1onethree3threeeight8eightzjqk8five5fivepvgrpsrxxsbfqfv\\nkfmh6six6sixv74two2two\\none1one9three3three5\\nlcn2hls3three3three66gsfmzvlx\\ntmlhhl72nhhkppscc\\neight8eightseven7sevenprzgone1onethree3three7nine9nine1\\n1rngfnx78196six6sixrjbbkzp\\n6seven7seven2182six6six\\nfpsl5xbdnjbzone1onethree3threezcfqmqone1onefive5five\\n5cxhrqzsfz34xdkvtxblkhvstcmjc\\nseven7seven36ccqzfmmlvseven7sevennine9nine\\n5nrvq2nine9nine2\\nfljzxvnine9ninetqxjjcrsvp7\\n1nine9ninetwo2twoseven7sevenvdtn4qcxnblgx2two2two\\ndcfxp2one1onefour4fourfive5five\\n6czxzpsc\\nthree3threeone1one1grvz8pvzvzkdzjfsix6six\\nhmbpnqntczjhdlsjone1onedr9prxvkt6one1one9\\ndccns9three3threenine9ninexgflfjltmvlssrhkbvktcfour4fourg\\nseven7sevenhbflnmglrn4rtseven7seventwo2two55\\nthree3threehddkrvsp11\\n6three3threegtk5five5five\\n29m5\\nnine9nine3three3threesix6sixseven7sevennine9nineddgchfive5fiveeight8eightwo2twovqq\\n2jtgvrldnbpfncfxtq\\neight8eighttwo2two6vtgkvpqzthree3three\\n5six6sixseven7seven\\ntwo2twohj3seven7seven3four4fourblqqbphcbfive5five\\n6one1one7two2twovjfqlsdgnrtzlzmjxgfljs\\n1nv\\n22five5five27two2two\\n3seven7sevenlgeight8eighteight8eight\\nkhpjmtsskfive5fivefive5fivexbjnkdtwo2twogmxcxrqdpl2\\nzmvpjtm6gzgztjrtnmgpseven7sevenfive5five28vjvhmnr\\n9four4four71\\n9zghgdjs\\n3one1oneqcjhsbv9three3threefive5five\\n47rsggone1onennqmbbckcdd31three3three\\nseven7sevenfive5fivesix6sixone1one5eight8eight\\n48hcmlcone1one8x6\\nthree3three9three3threesix6sixjtxhlm3eight8eightgtrskhqfjtgfjbcfdt\\n5nine9ninefrpqjdhkkcldvhqkljpqpb1\\n969nine9nine\\nnine9ninenine9nine8ctprmxkvnine9nine3xkl\\nseven7seven648lpmxdn92\\nrjhvlnz5two2two\\ndlvqhfmp587\\nseven7sevensix6six6\\neight8eightsix6six34four4fourlgxrndbjjx9mztwo2two\\nczlpflntvpc1qnl2\\n9seven7seven8qsix6sixbjone1oneeight8eight\\nsnnjcseven7seventwo2two6qst\\nndxgj756zqgt\\nkrczgjpbfp199three3three4six6six\\ncjeight8eightwo2twoone1one8\\nffmddcrh7rrxhpnlkkdl\\nnine9nine9hhppdvfczxkjnine9ninefive5fivecdp\\n8eight8eight19\\n4five5fiveeight8eightthree3three2two2twotwo2two\\nnine9nine2four4four4941seven7seven\\nfour4fournine9nine5two2twodqbkbjjmmqsn\\nnzqgngfxftwo2two6\\n5bmlfbsql2seven7sevenjrxkkdtwo2twoone1one\\njfeight8eightwo2twoppxbpgzdljnmmpvrckv8\\nchj66four4fourone1onefour4fourvcdd\\nfour4fourzvgbsgkmgslntrzxtxvjnmhk5v7\\n1fnzftqmtj9gqkblpknq6blmlkxbzhdsdljvqfour4four\\n116rqpdqq\\nxslxqcmlchmqlzmkxbk79hnlhthree3threesnnmnht\\nsix6sixfive5five8kjhrfdxrtfour4four\\nnlv71clmzbnine9nine6\\n42one1one8lz\\nqspsdj2gv6vl8six6six5\\n5gctkjzxlr2two2twoseven7seventhree3three\\nrmgmkvqeight8eightpfmrxqmvkg8\\n3six6sixnjrjbbzl3\\n1nine9nineseven7seven4three3three7qhdsxvbmlk\\nfour4fourjbznsbgsn2pgxrzlkkjtctm3eight8eight5\\n36four4fournine9ninecppsqfflbcbljnfgh2\\neight8eight211nine9ninegnfvhfxqcmpmeight8eight\\nvbsg73\\n3nine9ninetwo2twoone1onerbzcglkmdg\\n76ngkrtfone1onecltwo2twovvgvgznzbmxm\\n977eight8eighteight8eightwo2twocp\\nfxskxcdkdeight8eight2225\\nseven7seven98rpzjxscseven7seven3vtbbhqjrjfk\\nseven7sevenseven7seven97jxh\\nseven7sevenfour4fourfive5fivexsspnqjnlxtbrfour4four24\\nfive5fivefive5five5two2two91six6six\\ngg2ptrsdxtfjtzztthree3three8\\neight8eight2ncmps1qsix6six25\\neight8eight486zfqfmgchtrrbcrjseven7sevenrcqtxnqnrb\\n7vgn31lvqqvkdqlpddmllbn9\\n1hlgrlmctseven7seveneight8eight9xfsfseven7seven\\none1onefour4fourdqzvlh7\\nfour4four543nine9ninethree3three\\n4seven7seven1one1one\\n79two2twogmjcngj7rseven7seven3\\nxxtkcbkgqfldssix6six4five5five4nine9nine\\ntqxnnspd7seven7sevenvljzl2scsbkhqdq\\ncbz3rczscjfxtzfive5fivenbjqone1one\\nthree3threekkcjlmvkfrsgz6r\\n1six6sixvppcksdvrz7\\ndvngzs74eight8eight9\\nqrncqtqxkfrndcrrpjcglfone1onesix6six75seven7seven\\neight8eight6cksxfdthree3threefive5five2eight8eight\\nfour4four51six6sixfschln6\\nhblmcggzgqsix6six2two2two\\n93two2two985\\n78six6six6\\n6sxmd289nine9nine152\\ngmpdcdcr4xzmhq3\\n5three3threehpdmq\\neight8eight54xcrlsv8three3three4\\n35two2twofour4fourfive5fivenine9nine4tjthd\\n6kch9\\n7fjlvptwo2two2ztrggpmsntwo2two\\n7two2twosix6six6kmdnvspnqgjxcdtgrspjj7\\ntsix6six8five5fivethree3three\\n2pggbgxnft7\\nsix6sixthree3three69j\\n24l\\ncpzltvslq9nfhcv\\nsix6six46eight8eightsix6sixsix6sixbblvjjkvntmm\\n7five5five3\\nsix6six2three3three\\nseven7seven2xxxhhjnl53six6sixjtgbnvh6\\nfive5fiveeight8eightj1mrfvzfour4four3p\\n6four4foureight8eight588zpjdcxlrshtwo2twonine9nine\\nxvtwo2twone1onesix6six7prcjfsxjksknxqqsmsix6six\\neight8eight3five5fivexmrs1eight8eightnc\\nvczdhchhsmlx7zdlcgfzrcgkcnqdvdtphxqqjxnsbd\\nsix6six2fxqqdtrkgqpgjrvhxtsbqzz\\ntwo2twotwo2twofour4four4six6six\\n9nzcvxthree3three\\nkggfkpvhrrone1onep238nine9nine\\n41seven7seven4seven7sevenfour4fourvrmxkhpcmskbctwo2two\\nnbttnvh8nlhldjstkvdxxlvqeight8eightone1oneight8eights\\ntjqdkfour4fourthree3three466\\ntwo2twothbcvstwo2twotwo2two2xpnqrldsmdtscnrp\\nseven7sevennine9nine3\\ntwo2twodhbtlnzrt418dlszqkbc78\\n3four4four8three3threeone1onetwo2twone1oneh\\ndrtcjpmrlnine9nine3vgf8kssrsssgpnseven7seven\\neight8eight78jqjjkgtbcckdndhdvz57q\\nfive5five59one1onesix6sixseven7sevenflls\\n63bbznssjjsvt4\\nfqkgmcrxf6gkcnine9nineseven7sevennfzhccqtfour4four9\\n5nine9nine2three3three\\ngfkhpkfgb9four4four49rqcjrjkglpzxr\\nds28eight8eight33xl\\nqdgnn9nine9ninecpcv\\n2seven7sevenrlfkzmktzgseven7sevenzzgxfrmp\\ntwo2twovpthxmxqgr94\\nsk3gbmrknrmm\\n7seven7sevenrpxjvzeight8eightsix6six\\n9zxzqglvxqm6jphmvfsqvjjqsl\\n9kqmnkthcdhtwo2twovbrqzftst3\\neight8eight669zvrdpv\\nshgjkgthree3threeznz69pjltseven7seven\\nnine9ninebc5eight8eight\\n5l\\none1onesix6six5five5five2clxllfour4four\\n71three3three2five5fivecplsnlgsmthree3three\\ntwo2twofour4fourone1one6fm7four4four26eight8eightwo2twox\\n7three3three9ftpvvbzpjzsix6sixssxbqcfsix6six4\\n92eight8eightlsgrmpqtpptxrdfxthree3threemvlxfpseven7sevenone1oneight8eightdd\\neight8eight7three3three\\ndrxxcghbseven7sevennine9ninenine9nineljtczntp6\\nnine9nine55cpqfkdrthree3three3\\n7five5fivefp3eight8eight\\n97nine9nine1nine9ninexprdpvqzps\\nfour4four3eight8eightpgbdhnmqvhjjhg6frqkpqzbtwo2twone1oner\\n3three3threefive5fiveseven7sevenrvr3six6sixthree3three\\nsix6sixs6zl184\\nfour4fourlfkxcvqkllbtz45three3threefive5fivesix6six\\n2two2twodvklqcqdjjdnpx84xgthree3three4\\neight8eightfour4four8dnqmlqmxd9cmt8\\nt4six6sixkkfhgmn83eight8eight\\neight8eightone1onenine9ninehqddxnine9nine75vppqhlcm\\n1three3threesdvsszeight8eight5dcsgrsv\\nseven7seven776smjhhb\\none1onevmr62dqzt7\\npqxtspl19three3threeseven7sevenkjvxjdhxkseven7seven\\ncgkvmx5lffclxgtsnseven7seven\\nfqjctfrrlmmnpeight8eightone1one19nine9nineqgsnsqbjk\\n8two2twoone1one\\nc6eight8eightone1onep3gxjnsjtwo2two3\\nsix6sixthree3three36seven7sevenseven7seven\\n5vgfsdkzbxmvxncxjpsxffcbnr62kmgmhcmkq\\nnine9nineeight8eightfour4four9kvdmxg5nnhrf\\n5blqszh97fhgpbdn44\\nnhzbqprgptnine9nineflxgvfkvlp453two2two\\nkpcqvjcjcj6dfpsljlrxdlzbf8grsnsdmklp\\n1zkjbnln\\nfour4four2xvxrrvs\\nnine9nine5nfmbxnrgfnine9nine8one1onekqcnine9nine\\none1oneone1onedd8\\nrr44\\n8bckneight8eightnqmkvqhkkmxfour4four\\n2pznjcxlj4one1onenine9nine433\\nnhmhkcqbsrrthree3threeeight8eighttwo2two3f5\\neight8eight64six6sixnine9ninefive5fivethree3threecfbbdk\\ncsmone1oneight8eight1hrseven7sevenfive5fiveseven7sevenone1one756\\n9qdrxl\\n26two2two3jq\\npnrskrrvtone1oneseven7sevenrmkcxcm2five5five8five5five\\nsfvfr8three3three69three3three7fs\\nseven7seven52bkslnnfrbqvmblknq3f4\\nzqmtdtp31three3threeseven7sevennine9nine3\\n9tbvvjstzmdpqnpbmrb32cbdjgtsjndjrps3ckpmspm\\n5four4four4rvmtkppghb9\\n24ftjxbdq3nine9nine\\nltj2one1oneeight8eightone1onesix6six\\n76three3three2seven7sevennine9nine\\nhfnzxcjfxgseven7seven5cpph3\\n2one1one966dpjlgfqbmceight8eightthree3threenine9nine\\n5one1one9smzz76eight8eight\\n348two2tworhzvqjdmqtwo2two\\ncjsvvksgzkktwo2two7hsfkrhkcsbrqcnrz26\\nthree3threethree3threez8\\nm3335cdgbxqn5two2twodmcqk\\n27eight8eight4\\nsfmspqbzr9eight8eight\\nrscxzq2fqlhbbhvkdbzqzqhzfour4fournine9ninepclrkkdrtwo2twosix6six\\npxbld2two2twone1onef\\nplpbbkvxqpvdxqcstp5three3threevljjqsqxseven7sevenseven7seven\\n2seven7sevensix6six9\\n5413sxmtrdjtcmdqpbpcprsix6six\\ntpdqxscxjldqvzncbvrpr9cvkqdffvfh8four4four\\nsix6six14\\nnsmqttrbhrznvone1onecmlxtdclnbk3\\nnine9ninecgbqh6two2twoctsix6sixthree3threefive5five\\nhqsgone1onesix6six3one1oneight8eightklm\\ncxxbjptkvkcttddmtwo2two37one1one5\\nv13two2two\\ntxxm84kmrpdkxhtbntkhj4four4four5\\njsrzgnine9nine8nrmzpgf5sqdz\\n4six6six9dkxttsthree3threedgvjkqpk\\nmsnrq7\\nt2five5five4vtwo2two7seven7sevenrjdrzvb\\n2rxbdzlszjseven7seven7\\ngmmnine9ninesix6six3119nine9ninemdnprsmd\\nnine9nineseven7sevenpbfx6four4fourfive5fivefdvhrsctztrheight8eight\\nqk3two2two317hnpkqxbmkb3\\none1oneone1one6six6sixdzdmfone1onefive5fiveone1one\\n427six6sixfive5five\\n17njgbgljkpxvhph\\n4hnfvpbvzxl6three3three\\n5six6sixnllvrvpjpv\\n3seven7sevenfzjltglsjkdknfnmpsvfive5five6xdsm2\\n1pxp8one1onesix6six\\nxclcfthree3threeln9ndqhvdxknkjzv4\\n6four4fourtwo2two2seven7seven1fcd\\n1eight8eightseven7seven4\\nfour4four21eight8eightlfjzb\\nnine9nine9nine9ninenine9nine81\\neight8eight8zpfsshlqbdlfour4fourmch5four4four\\n6six6sixjdmjjgmsk\\nnine9ninesix6six8three3threetwo2twoxtqdsffxlk6\\ndgsddfcnnc3seven7sevenseven7seven532one1one\\nlseven7sevennine9ninenine9ninefive5five851dtqzv\\nnmrxfsmfcscftvzzbggglsfour4four6\\nthree3threesmxqlgmpvtwo2twokvrx361eight8eight\\nbrbkgqcblcxghjp34bpnrctz\\nsix6sixbzxfbfsjth14pqpvjqfmr\\none1oneseven7seven99\\n7four4four6562zjjxxjlvfdqbssmcx\\n8fjssqgzthree3three4five5five3\\nfour4fourckmtsssqgdgcvmqhcqlcqqdhv5eight8eight\\nbphtzndpdrfive5fivefour4four8nine9nine5\\nnine9ninesix6six57jvjtwo2two36vzljdfnndv\\neight8eightfour4fourfive5fivesix6sixone1one2vg\\n5seven7sevenkdgcmjthdxpxprcdnzpffsix6sixcjmh2\\n9cvldprttjk1\\nseven7seven6five5fivesfjjshfqmsjvfpc\\neight8eightsix6sixstmhlldl21four4fourvgsmdlcd1\\n5nv1two2two\\ntsqxlfnd6rtcvcv5\\neight8eight3zdljlvkbp7hfive5five5xzgzspsnfour4four\\n945seven7sevennrtnn57\\n562\\n3vtnlsfour4foursjbgbqmlx6\\n8lprsrtvrh9two2two3\\npssfncbhqpfour4four1dgcjqpccfzfntphmtjthree3three1six6sixfour4four\\nrchfmfp18998rsbx\\nnine9nineone1onedmlffz5\\nseven7seven2seven7sevenone1onetwo2two\\nnine9nine3gxttrkkzpj933mjzhphl\\ncdpqqhrcrrnspsr378two2two\\nfour4fourrprdlkvqj8tntfttwo2twofive5fiveseven7sevenqmcsgpljvnl\\n978six6sixskr2gkrcgn\\njcvldmcdqbjdcxhjcgngseven7sevenfive5five2cfcmbb4\\nszlsvrzzkseven7seventwo2twoone1one6nine9nineseven7sevensj\\ngzbone1oneight8eightmsblxgzmsq5seven7seven\\nseven7seven5eight8eight5\\ntsblj5one1onebkx882\\n7kdgdfvx3seven7sevenczgf\\n94g14one1onenine9nine\\n7four4fournrkdxz4three3threethree3three\\n8eight8eightqtwo2tworlcxtv4\\nrbkbdsqbfour4four39eight8eighteight8eightwo2twoxn\\ncxgmxtone1onenine9ninennqtmzml6dq\\n8five5fivefour4four9\\n8bhspzfsjr9\\nfive5fivekzgvvfour4four8seven7sevensix6six4vlphpblsp\\nsix6six63kbbxrfive5fivefive5five5\\neight8eight5gmkrhrkjjxhb\\nxtcfive5fivepntwo2twoeight8eight9seven7seven\\n6nine9nine8five5fivenine9nine2mf\\n5four4fourbthree3threenine9nineslxfgtqrxcv5four4four\\n4vhkxmlsvfg\\nscphnsbz9h6qnlhcqmgl\\ntbbcqfxrllszbseven7seventwo2twofive5fivethree3threenine9ninef1\\nzkvtlscldhngtk59\\none1one6four4fourrmftxfsvmtwo2two874\\n37three3threeone1onefive5five4\\nlrnnspbrgd6jzxtbnine9nineseven7sevenngnpsljcr\\nxhldmfc4five5five76five5five\\nqrzfive5fivexklqcjdnine9nine46\\njkgb6nine9ninesix6six41three3threeseven7seven\\n134628two2twozlm\\n8ffrzgtbbfgfive5five2nine9ninethree3threem\\n2132\\n7xf\\nmfhmshvfive5fivenfzjhslq7nfcfgvjhs8\\nseven7seven3248\\npvpdpxpg135seven7seven9vpcpgrzlpjblmd\\nshnslhthree3threefour4fourtwo2twodnpfr7seven7seven\\n6hxhhmfive5fivesix6sixseven7seven\\nvppgmfive5fivethree3threefive5fiveseven7sevensix6six2two2two\\nhp98\\nphlskgmgrjsbtq2gkjvrgsd\\nkkfour4fourthree3three9fhnpdqcqhtwo2two\\nftnvkprhvllkh9n\\n71one1one7two2twofour4fourfour4fourqtfmc6\\neight8eightfive5fivehssmqsptcone1onefive5five4\\nnine9ninejcfqknhcfpcbcsmnpvn4six6six5j\\none1one7jvmtxkjzfive5five\\ntwo2twof9pqcgdfqsq4d7\\nkrczdrpxbhsngqdvsqb1four4four7mb7lldv\\nseven7seven9634tgcsplgmfive5fivetwo2two\\nvjvpstpbgtseven7sevennvpsvch97rslh4one1onefour4four\\nzbtgjgq23seven7seven7lbnzdpnkzf\\nzndbhclr714\\ntwo2twofive5five3\\n9eight8eight2two2twojxzdkptwo2two\\ngzqfcqpxnfhtb28dvfeight8eight38\\nrsqvgsqv9tdlvssj\\nf78hjftphgcv8bqgrckgldone1one\\nfive5fivethree3threetjg2\\n6vtqgdkxsmj\\nxgjdndnpseven7sevenzfl6tfgxltvcthree3three\\nthree3threenine9nine82gqnffkvm\\nzmlblc4five5fiveseven7seven3two2two\\nmsmlvbnqbt9\\n144bfcbsjztmdldveight8eight\\nchceight8eightwo2twofive5fivemcfrxv266\\ntwo2two9f7gzhhsf6\\nnine9ninetwo2twoffour4four8seven7sevenjngv\\nfour4foureight8eight22g7two2twoone1onemlvq\\none1one78ptfgbbvx\\nfx5\\n5rvz2two2two\\n913\\n9eight8eightnkvhcksone1oneqsqgntfthdtjm\\none1one1six6sixcsccdvbxzx\\nseven7sevenone1onenine9ninethree3three4one1one7seven7seven2\\njqseight8eightwo2twockmxjd3gfmlhbn6seven7seven7seven7sevenkhcr\\nseven7sevenqqhs4one1onemcn\\nfour4fourseven7seven3nine9nine7pcn\\nsjjpsthkdfeight8eightcsvlcvhltv6\\nqpc16five5five\\n3jplhrj2three3threetwo2twofpvrthree3three\\n4six6sixsix6six9two2two\\none1one1eight8eighteight8eight\\n5tg\\n256five5five9\\nseven7seven9crnff9eight8eighteight8eight\\n16five5five1one1one4kqllsltrtn\\neight8eight3three3three\\nseven7seventwo2twoqtlxj8\\n74seven7seven5\\n2five5five7mmgsbfc\\nfive5five7four4four\\nbmtkcxvcj997eight8eight\\ncpgrpgxtgkqr9\\nseven7sevenmdqtqhfvnknine9nine929xm\\nnsix6six27vzglseven7sevenseven7seven63\\nsix6six1nqpsgtrllsnhmbnqxrdvrcx8s\\neight8eighttwo2twoflrvzfq262\\ntwo2twosxtf866hfhxn4four4fourone1one\\n3four4fourzbrtmd47three3three\\nfour4four99eight8eightbcldqfvrm\\n871\\n2two2twobdtnzzqgvfggjntvgpnqslbdctppnfzpfpcbvzqccq\\nsdmkzhb8lnpjntj7\\nthree3threembr1\\n5fd1seven7sevenpsdpdlnb16\\n7mnkkvpzrrnslfksrnine9ninexmpnfpbzhkx\\nnfrnvtt8\\n24dsffive5fiveqzmjrjznfksrknrfn\\n5four4foureight8eight3pn3\\nnine9nine9three3three\\nnine9nine74cmxrdvcxf3pdhbfour4four\\nfrjnzrsix6sixone1one53eight8eight\\nfour4four41four4fourhfjnjhpkzp\\n939rdjhlfpjsix6six\\n4kdkcq9two2two\\n329five5fivefive5five98\\n65485\\ndfseven7sevensix6sixmdbfour4four7jhxsfour4fourfour4four\\nrqtwo2twone1onerdkf3eight8eight6four4fourfour4four\\ntwo2twoqnfthree3three5fx\\nrtwo2twone1one1two2two89ntwo2two9\\nsix6sixskqssbccfour4four7five5fivevcmseven7sevendqbfcvks\\nsgtwo2twovmzmzm9\\nvk9\\nseven7seventhree3three4\\n48mv3eight8eightnine9nine\\nsix6six7gxnj4six6six3\\ntwo2twotwo2twosix6sixlm55dmzdrntzthree3threeseven7seven\\nfive5fivemhcdlm8five5fivemkffllv9\\nfkxzdh69two2twoone1onesbrfhntk\\nzfour4fourthree3threeseven7seven1kllk\\n6nine9ninethree3threefive5fiveqdct\\nnine9nineeight8eight136three3three5nxvj\\nfive5fivecpbkhqxpmf46two2twotxtfrhmvbone1oneone1one\\nbrrfqnine9ninetwo2twohgqnkfctkseven7seven1\\nnpblhpcpfive5fivehdsnine9nine34\\nvksix6six4four4fourvrbfmjcrhb78\\n72xfmds46three3threefive5five\\nfive5five1kq8eight8eight56three3three\\n3seven7sevenfvcsglnjtbhdkqf\\n6tr6qxqrmstqg\\n15five5five5\\nfthfvffour4four85\\nseven7seven81four4fourone1onefive5five\\ndhkknlbfjrnsfcvvkk9seven7seveneight8eightwo2twos\\n2lngrlvrk4shgktcbpfone1onefive5fivenine9nine2\\nseven7sevenhhlrfqmzn2\\n6seven7seven927gdczblhjlmrxnjqfktwo2twone1oneq\\n7phbj9four4fourvbx31seven7seven6\\n146\\njnqxslzpsxdftrqczq764\\ntmbjdldtwo2twogfvxhnvsfp8tzzp\\nfour4fourgv68bblxfktsfdg98\\n36tnrmd2jrllk2npbrctjcjthm\\nmx3nine9nine3hkslkb5\\nxvmgtlzmrfjcmqgtwo2tworc3\\nvxscrns1lclnxtwo2two\\nfour4fourseven7sevenone1one534\\njdmrj1six6sixkzdxn\\ntwo2two9three3threenine9nine\\n2seven7sevendsmlzh13jlslmvtnine9nine\\nnine9nine8nine9nine\\ngthbsq953kxckzppcxqzl3\\nxnrgzjzrbp5rptrpbsdgsqfeight8eight5\\n1seven7sevendnmxkpdsrmrfkpmxcq22six6sixmdmvqlgpnbcxf\\neight8eight658x14fq\\nrzvgmdltnz9nvthrjvpzqf\\n9one1oneight8eightgl\\ndsbtb88\\nthree3three4four4fournine9ninelzvqhvjpk6\\nseven7seven59four4fourthree3threed\\n3671\\n66nine9nineeight8eight8two2two\\neight8eightlszxlsxlcq3six6sixskqhj4gkblpj\\nthree3three2eight8eighttwo2twothree3three\\nnine9nine853qttjrjptxttwo2twortkhmjss\\ntwo2twosix6six35\\n5948lspjxzpbmthfive5five\\nfour4fourthree3three8\\nfour4fourfive5fivevbbqpppqrkkzjqqbnine9nine3\\n8nine9nine4xszllqzzone1onesix6six2nine9nine\\ncrgnbqrfour4fourrzjbpnnsqthree3threethree3threefbnine9nine85\\ndx79xjkcpxsndsrbnjlbnine9nine2\\n9nine9nine89\\none1one7qmv1\\ndlpbzxfm536392fp\\n3seven7seventhree3three8eight8eighttwo2twoeight8eightfive5five\\ntwo2twongjrfkcb66\\n2eight8eightseven7seven8\\nzffrln57eight8eighttbqsgzbzhrzxt5kxxlcxb\\none1one5three3three621nine9ninetwo2twonnprsbmm\\n3vmslzzp8xcpcgvf\\nthree3threesix6six93\\nseven7seven3six6sixfnbbbeight8eighttwo2two1five5fivezglzb\\nkgk7\\n48seven7seven2ccztcfnv5tzkrxffour4four\\nxczvzdjthree3threeeight8eight6hnffive5fivexxtmqs79\\nthree3three4nine9nine36three3threehjp\\nnine9nineqtdtmmpjpkzpxmmfive5five83seven7sevenseven7seventhree3three\\n22jfdpndrcvxbgz\\n7bljfctkbpc\\n4bfblqrphseven7seven\\nfklxmcqxthmnvrlc9\\n4seven7seven9zspgftgvd53dsdkhgbns46\\n7seven7seven664fdqkcqtr9\\ndvxtkqfqbhrllbone1one3six6six3\\n4ktplgtgzlf3eight8eightfxslssr\\nsix6six2bhsjknjmgdddgnb6tbhvxbf29nine9nine\\ntwo2two93two2twofngr8four4four\\none1oneone1oneftmqvblcrjnng7jvch97one1one\\n9five5fivexmzstmlrmztwo2twohsqmzfive5fivehseven7seven\\n5two2two2hggzchnn\\none1one28ptdlfour4fourgnrjftqd4vxfdrfx7\\nsix6six6zvkcszt4tfpkeight8eightvdkjzbb\\n7one1oneftjp\\n1seven7sevenseven7seven9fsp\\njqtznvrq8one1one11five5fivesix6six\\n3nine9ninedkqxtmone1oneight8eighthkt\\n8k\\n931\\nclhvprlljttm9\\nfour4four14bfgf4eight8eightwo2twoc\\nxrflnnfb2rlv7two2twoseven7seven2six6six\\n6366hlgklvjvxxlbkxgb\\nnbkxvp3eight8eightgnznqqjbt5seven7seven\\n98sntdts\\ncneight8eightwo2twotdkfxxxjfdpz3zkkthree3three\\nfive5five1sfhq1lhhvjb\\nzdd56tcdchkvnbn\\nseven7sevenhtpbmbntfive5fivethree3three9scjfive5fivenine9nine\\n2spxggcvsvm4msdszqtml\\n4two2twoxseven7sevencjgnine9nine\\n89eight8eightone1onetwo2two3ghqbckqkn\\nfvsgljnzgzfive5five1slhbxxhsrlmfive5fivexqnkmtnzx\\n1g1\\n94mcreight8eight\\nthree3threefntlsvvfnine9nine9\\nb3hnhvjhtrrv\\n11four4fourthree3three46\\nplhclxcjrsgspx3b8five5fivecbx\\nmvjxqnqxtwo2two89bfive5five\\nthree3three9nkjrh6two2two3\\ndgprgjdgcrtqxgvknnk9six6six\\ndmbljtqg66zxjr95nine9nine2seven7seven\\nvdxone1oneight8eight6\\n22two2two9\\n7one1oneppgrjnmrvchvsznsgfive5fivexxdt7\\n1three3three4mzc\\nbdnhvtsjmdnklsxbtmnztqjtpnz6five5fiveseven7sevenfour4fourzddgsrfmlq\\nkrzm2two2twotwo2two65six6sixfhpplvcgcs\\nqzcvbvsfive5five1one1oneqzc9three3threeseven7sevenseven7seven\\nthree3threesix6sixnine9ninekghkvvzd4\\ntxqjpmlvdlpm7\\neight8eightsix6six1l96xrljgg\\ntwo2two63d32six6six\\n8nine9nine1five5fivesix6sixfive5five3eight8eightwo2twos\\nsix6sixnine9ninenkrpsix6six2nf4\\nfour4four2seven7seven35four4four9three3threensbv\\nncjhcskrx6\\n3eight8eightcpssngjlsqvmsxqqpldhsxsthree3threelzgzn\\n6zjnmxrgcz\\n9bbvkvnbmzshtdzxgqnqmqtthree3three\\nfour4four2kqmzfgvpk35rhmqhtrqmfour4fourhjxxfour4four\\n9eight8eightfive5fivefrpqtzmkkgkvjbbqmsqvq\\neight8eightseven7sevenzpskfbrmcgzjjpnlgr51bdlcmsxhf\\npt8two2two6seven7seveneight8eightjsqxjmlf4six6six\\nphjclrmpzm1292gdfive5fivenine9nine\\nsix6sixfour4fourtwo2two1\\n9tvcnzknine9nine2rdnqfive5five81\\nsix6sixtwo2twopvxjcnmone1one2kxzxgmn\\ntwo2twosix6sixpcntbtfive5fivenine9nine4two2two\\nrxdgeight8eightone1one86two2twobzmnlgkdc\\n4two2two1two2twovtldl8one1one\\nfive5fiveb1\\n212three3three6two2twofour4four84\\n74tstlfmrmcj\\nsix6sixgxtwo2twotmrmzkfsj9\\neight8eighthksxmf144xltwo2two8\\nmthjxjhnqxnhcbxg783\\nprptwo2twone1onehhdlrd71three3threeone1one\\n59five5fivefnsmzfsix6six\\nnine9ninesix6sixone1onetwo2two9six6six6jtptone1one\\neight8eight9nine9ninefive5fivezqvpstseven7sevenjvcjmdcscnzlqsfnhnrnmn\\n2ckgjml4rcprzj7tp6\\nseven7sevenfive5fiveseven7sevennhg136\\nnine9nineseven7sevenvhl5\\nfzflrseven7seven1five5five5seven7seven\\nseven7seven5lcfxp\\nbqhjg4three3three3\\nthree3three8nine9ninegtone1onetwo2two46\\ncvdpr8\\n32five5fivehfsdhxgjnn\\nsdndcpccpvdzdgn9four4fourlnslcmbtwo2twojphzpnvrnp\\n9cqkgdf7fxgdfcllvnnmzpptnine9ninesix6sixone1one9\\n3chllzcgq5five5fivebffm9\\nsqmtj4qlhlcrmrnb38v4dsix6six\\nseven7sevennine9nine84bcpvqjcrxpvtcgfhlfhncplktf\\nqkzxvstdgnfour4four4two2two\\njkhone1oneone1onesix6sixfive5fiveone1one14lvzn\\nthree3threethree3threefive5fivensvlbfour4four2four4four\\nvgqlhqfrlfour4fourlzcgppdbhq57\\nbqzpzbtwo2twolprtwo2two9\\nlfjs9six6six1five5five2fzcldvnpxtmhsix6six\\nkslcntz36nine9nine\\nnine9nineseven7seven8rzccgfhzsjnjveight8eighttwo2two\\nthree3three3four4fourfive5fivedmjlgqfhmnine9ninemst8\\n4qxvzgfvctwo2two73\\n75961five5fivefour4fourzg\\nspcbt66seven7sevennine9nine4four4four\\nhhb1\\ndtmone1oneight8eight9\\n3mbctjhfmr2four4fourthree3threeseven7seven86\\nsix6sixjsbmvzql6gfnttq\\n1vknfgmznmnzpgvsp3bsksdseven7sevenfour4fourrk\\nsix6six4six6six7nine9ninepfxjsshthree3three\\n4rqgzpnqcg8skfgksjone1one3four4four8\\nseven7seven5zkljftwo2two\\n76sctscqtsfcnine9ninefour4fourrgmsbsxv9six6six\\n46fpdqhkfjzgtclfchbbsjcbjhsbkqggzhlb6four4four\\nbshbvfour4fourzc79lvvdsqjksmzmqpbvrsrbtg7\\njdqmtfeight8eight59four4fourtwo2two\\nnine9ninefive5fivejsl3\\n94z7four4fourone1oneeight8eight\\n5nbmvgheight8eightfive5five\\nsix6sixseven7seven5one1one9ngk3\\neight8eight3jddmgqnzcfjsvrd6five5five6kmbxss\\nseven7seveneight8eight9four4fourthree3three\\neight8eight83\\n3spltxvtbg\\n92shzldthree3threefpckdtqhm7five5fivezzkdlz\\n6two2two9three3threeztrzxphhksqc\\nnine9ninedlone1one3\\neight8eight4nine9nineone1onefour4fournsmdgkdszt\\n9cpxhnksktwo2two15five5fivefkq\\n144eight8eight77\\n1six6sixjscflltdrgclmgrszdfive5five7lc\\nttmfsx9dzgcqjzlzhvlfqrsj4six6six\\n846\\nfive5fiveseven7seven7\\nkqtwo2twone1one2nine9ninefour4four7fghmntkn\\n8r8one1one\\n5nnzqqgxl4gbgnzntfrhqzeight8eight\\none1onevpkxvrone1one8\\n79klfd\\ngzrjvck1six6sixqnfdjxfive5five9eight8eightcmhmsjpl\\nnszqhdfsix6sixsix6sixb3three3threenfive5fiveqskccbffd\\nsrbn928eight8eight\\neight8eight2eight8eightfive5fivekmnjkndgrhjdpvxk3\\n9four4four11one1oneeight8eight\\nseven7seven6five5fivezzktmsix6sixv\\nfive5fivebvtnzr4three3threeone1onetld68\\nmgbfjcjbqctt71fgdbmmqdlhpxnpmvx\\nrjprxbxrfk233\\nnxbjxbcvvskeight8eightfive5fiveglpnhbzz27four4four\\nkstwo2two2\\n2btbzfour4fournbfcxnvlvcbsjmplnprcrg\\nmkk6three3three271\\ntfncrvlnfdmntdrmjqqtknsgpq671one1onethree3three\\neight8eight8two2twofive5fivex\\nphreight8eightfive5five81hftbkbdnztt\\none1onetbhqqlcbqrlfzrqbtbl9ntcgvxr1rhgrspqkgklz\\ngckbone1onekhzcjhdb5\\ntwo2twothree3three1lfive5fivetwo2twolpdxhn8\\nthree3threebqmxgpjfbzrrrrgdt8\\nthree3threejvlpxpfm9four4four4three3threeone1one\\nfive5five68one1oneseven7sevennine9nineone1one9two2two\\nmjqjrqmeight8eight73\\nfvfgrdppszgdhmnine9ninenine9nineone1one7759\\nlrhchsone1onek3two2twobblvn9bdmcbt\\nmdcqxbz84five5five6nine9ninetwo2twone1onergj\\neight8eightnine9nine548ttfive5fiveeight8eight7\\n74mfftzxhkl4\\nseven7seven5mdmrxlp\\nptb76ndfpbtljpkhjthdfmsdddjssm\\n7vkeight8eight\\nbzzpvht5four4fourthree3threeseven7seven8\\nrztztsix6six12nine9nine\\nfvpqdnphtd1mmrhppbd2\\nh8dpbvs2tjlqgfxhhbeight8eight\\n51one1one\\ntwo2two86\\nsix6sixnine9nine7six6sixseven7seventwo2two34\\ntwo2two45xjcpcnhgbsb1five5five7\\nqqkzvpsix6sixfive5fivepfzdhtl92six6six4rhp\\ntwo2two6vqtxvxrvzpz\\n1qqsfrgdbsm8five5five\\nthree3threeeight8eightsix6six36xvtm\\nnine9nine5eight8eightczhsix6six3two2twoprztckvb\\npxrsgpszone1onepdjvxcblqzkr61seven7seven11\\n5seven7sevenone1oneseven7sevensix6six4six6six1dvhrx\\ncdxnbseven7seven9qseven7sevenvbv4\\nsix6sixlgjt3\\ndhpxhpbkq3lc6rkjlpdz4five5five5pctfzsplrf\\n1kmsmgjpmkqfckr\\nsix6sixeight8eight1k44\\n52qdfp1b8\\n86four4fourthree3three42\\nsix6six2four4fourpjtsvskrxtmgxnj2one1one3dn\\nrjtfqxvfm88seven7seventhree3threeeight8eighttwo2two\\nfive5fivepgfvxcds64seven7sevenhg\\nglvhcrgbtphxfsfour4fourthree3threerqhjxpzone1one5gh\\n1seven7sevenone1one34\\n689five5five9nine9ninetwo2twotwo2two4\\n6two2two92six6sixjb1cbhmrq\\nfive5fiverrvllhbgcsskh2\\nfour4foureight8eight6fhtx1five5five8eight8eight\\npqvvjkhtxkxcjkrf9mn\\nthree3threefive5five2hs6one1one6jhkbdh\\ntwo2twonine9ninefzflrqqzvp2xnr8\\none1one51\\n7bjpnfsgpszrfk5four4fourthree3threebvvn\\nsix6six74\\ntwo2twozcgbrrhxcpznx9dlcgdchpndcdc\\nnine9nines566\\none1one72zshxlsix6six\\nvseven7seven4four4fourone1onenine9nine6\\n7four4four1nine9nine2three3threekzjbs4\\none1onecq3four4four\\ntwo2twodcrx8\\nfour4four35sjjhpfftzsix6sixfqctsfone1onefive5fiveseven7seven\\nsxqnssjtwo2twothree3three2\\n8fdpjrztwo2twoseven7seventwo2two5rmqvone1oneeight8eight\\npjlbnl3rg3shchseven7seven\\nzdcrnpddv2\\neight8eight2four4foureight8eighttgjcxtf2\\nghhxlxqttvone1onerh96715two2twone1onectr\\n9hmfxxrsdbsix6sixbtwo2two7seven7sevensix6six\\n32ghjqjfp7three3three4one1one\\n197\\ntwo2twon8five5five2\\nvtwo2twobrlhqsq1two2twothree3threesix6sixthree3three\\nxbdxnine9ninefour4four8seven7seven\\nfive5five39\\n621eight8eightsix6six\\n21fvdd11tsdzhjspzld4\\n7seven7seventwo2twoeight8eightfpnkhxmvc\\n96sjrcvzxseven7sevenfqt4seven7seven9\\nxzxmtsrhbfive5fivenine9ninenine9ninerxgcrx9one1one\\n5pzgmrgrg2kdgl9one1one\\nlqzmttxcpp7cnfstnhtglzhssntjmsix6sixseven7seven6six6six\\ntwo2two711\\n6one1onevjnvmkkx\\neight8eight7dbmznvztwo2two\\n9mlpltkt3\\n7nine9ninenine9nine4tpjbsbtsgzttlgrtnfvr91four4four\\nfour4fourseven7sevenq7\\nsix6six1sgtbsmgft9\\nnine9nineone1one28four4fourjtwo2two8\\n76three3threebgqvh6lfbkdmfvcthree3threeone1one3\\n13cvtpqnmbv\\n1seven7sevenzjhtfpbfb73rccvtnmtthree3three7\\n4xhvshhtmxx7seven7sevenf9\\n8one1one1\\n931five5fivetmdmsrrmfxrplkfvfour4fourthree3threeeight8eight\\nqzbthffhlg2\\none1one4eight8eight33\\nqfjqt9jlcthree3threeqkfdpfive5fiveeight8eight8scfnlj\\nfvczqbtsix6six2bxkgsnsix6six5nine9nine7\\n9qxnvlnine9nine2phnlqznine9ninefive5five\\ntszjsxbsix6sixtwo2twoeight8eight62ffjtdnxxtwo2twofive5five\\none1one2skxg\\nfive5five5one1onexzgzkjvtqrfour4fourfive5five\\ntwo2twozsxzqtrqbxqqqsbcvfpgdcdpttwo2two1six6six\\n8mqkgptxsix6sixhqmbqshcl\\nlsdlsxrhdqthree3threesix6six2seven7sevenchjxvmsjpvrnpcblgmsix6six\\ngngrfrhbxhqkxs5four4fourr8three3three4\\njlzszzz9one1one\\ntwo2twozrbjkjpzseven7seventwo2twonine9nine8dbmfdjcb\\n3nine9nine36ppqone1one4czxvkxjzv\\nld6eight8eightseven7seven6two2twosix6six\\n1jnbfive5five\\n7three3threeglmcdhpvq4723five5fivethree3three\\nseven7seven148one1oneight8eightd\\nseven7sevenseven7sevenseven7seven6six6sixtwo2twosix6six21\\n8two2twojhdkdrcqgmclqlldv6seven7sevenone1onedjthcz\\nnine9nineseven7sevenggsjbpt5ttlrq\\n59six6sixfive5fivefive5five\\neight8eight9bsmcgkseven7seventhree3three66qmgpkkxnpm\\nfour4fourthree3three73five5fiveseven7seven\\n9five5five9six6six8three3threet\\n3eight8eight44\\ndlcbjflsix6six5ttvjdxzzeight8eightcffrtfjcjpxtwo2twostrdc\\nfive5fiveone1one645five5fivellfcmqqmnine9nine\\nhxdtshfive5five115tfvrzqhgftwo2twojtjrcshgtq\\n6nqrfrhv17jdxpfmmdt4five5five\\nseven7sevenxtpjxnrr1\\nkrzkthree3threegjnqrfbsdrkqptd33rsvrzvvffqhreight8eight\\n472ggfive5five56hgnvz\\n12tkpchqtnine9nine\\nvdbsctv6eight8eightth82\\nfive5fivetngxlttf4\\n5nss\\n5one1onesix6sixseven7sevenphxtmlqhzfcjxrknpv\\ngldsix6sixrhss186seven7seven6\\ngnpksz4\\n4919\\npbc19'"
      ]
     },
     "execution_count": 260,
     "metadata": {},
     "output_type": "execute_result"
    }
   ],
   "source": [
    "data "
   ]
  },
  {
   "cell_type": "code",
   "execution_count": null,
   "metadata": {},
   "outputs": [],
   "source": []
  }
 ],
 "metadata": {
  "kernelspec": {
   "display_name": "AdventofCode2023",
   "language": "python",
   "name": "python3"
  },
  "language_info": {
   "codemirror_mode": {
    "name": "ipython",
    "version": 3
   },
   "file_extension": ".py",
   "mimetype": "text/x-python",
   "name": "python",
   "nbconvert_exporter": "python",
   "pygments_lexer": "ipython3",
   "version": "3.12.0"
  },
  "orig_nbformat": 4
 },
 "nbformat": 4,
 "nbformat_minor": 2
}
