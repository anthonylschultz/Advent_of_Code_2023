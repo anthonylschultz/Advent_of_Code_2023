{
 "cells": [
  {
   "cell_type": "code",
   "execution_count": 90,
   "metadata": {},
   "outputs": [],
   "source": [
    "# import required packages\n",
    "import pandas as pd \n",
    "import csv \n",
    "import re\n",
    "\n",
    "cd data "
   ]
  },
  {
   "cell_type": "code",
   "execution_count": 93,
   "metadata": {},
   "outputs": [
    {
     "name": "stdout",
     "output_type": "stream",
     "text": [
      "55108\n"
     ]
    }
   ],
   "source": [
    "# read in the data, create a list of lists\n",
    "data_lst = []\n",
    "with open('day_1.csv') as data:\n",
    "    csv_reader = csv.reader(data)\n",
    "\n",
    "    for lines in csv_reader:\n",
    "        data_lst.append(lines)\n",
    "\n",
    "# strip out non-numeric characters \n",
    "new = []\n",
    "for lst in data_lst:\n",
    "    for str1 in lst:\n",
    "        new.append(re.sub(\"[^0-9]\", \"\", str1))\n",
    "\n",
    "# create new list of str numbers \n",
    "new_new = []\n",
    "for str2 in new:\n",
    "    if len(str2) == 1:\n",
    "        new_new.append([str2[0]])\n",
    "    else:\n",
    "        new_new.append([str2[0], str2[-1]])\n",
    "\n",
    "\n",
    "# create new list -> convert characters to ints\n",
    "new_new_t = []\n",
    "\n",
    "for lstt in new_new:\n",
    "    new_new_t.append([eval(chars) for chars in lstt])\n",
    "\n",
    "\n",
    "# create a list of doubles and singles\n",
    "doubs = []\n",
    "singles = []\n",
    "\n",
    "for i in new_new_t:\n",
    "    if len(i) == 2:\n",
    "        doubs.append(i)\n",
    "    elif len(i) == 1:\n",
    "        singles.append(i)\n",
    "\n",
    "# take the single digits and turn into double digits\n",
    "singles_final1 = []\n",
    "\n",
    "for lst in singles:\n",
    "    for i in lst:\n",
    "        singles_final1.append(i * 11)\n",
    "\n",
    "\n",
    "# convert doubles into strings\n",
    "doubs_ref = []\n",
    "for i in doubs:\n",
    "    doubs_ref.append([str(x) for x in i])\n",
    "\n",
    "\n",
    "# Convert strings into a concatenated int\n",
    "doubs_ref1 = []\n",
    "for i in doubs_ref:\n",
    "    doubs_ref1.append(int(i[0] + i[1]))\n",
    "\n",
    "print(sum(doubs_ref1) + sum(singles_final1))"
   ]
  },
  {
   "cell_type": "code",
   "execution_count": 105,
   "metadata": {},
   "outputs": [],
   "source": [
    "data_ = []\n",
    "with open('day_1.csv') as data:\n",
    "    csv_reader = csv.reader(data)\n",
    "\n",
    "    for line in csv_reader:\n",
    "        for str in line:\n",
    "            data_.append(str)\n"
   ]
  },
  {
   "cell_type": "code",
   "execution_count": null,
   "metadata": {},
   "outputs": [],
   "source": [
    "''' \n",
    "- create key of numeric words\n",
    "- search string for numeric words:\n",
    "--> convert numeric words to numbers (substitute)\n",
    "- remove non-numeric characters \n",
    "- extract [0] and [1] numbers\n",
    "- if len == 1 -> append same digit -> convert to int\n",
    "- if len == 2 -> concatenate -> convert to int\n",
    "- sum up singles\n",
    "- sum up doubles\n",
    "'''"
   ]
  }
 ],
 "metadata": {
  "kernelspec": {
   "display_name": "AdventofCode2023",
   "language": "python",
   "name": "python3"
  },
  "language_info": {
   "codemirror_mode": {
    "name": "ipython",
    "version": 3
   },
   "file_extension": ".py",
   "mimetype": "text/x-python",
   "name": "python",
   "nbconvert_exporter": "python",
   "pygments_lexer": "ipython3",
   "version": "3.12.0"
  },
  "orig_nbformat": 4
 },
 "nbformat": 4,
 "nbformat_minor": 2
}
